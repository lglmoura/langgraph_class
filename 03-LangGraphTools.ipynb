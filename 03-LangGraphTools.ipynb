{
 "cells": [
  {
   "cell_type": "markdown",
   "id": "7f346df8",
   "metadata": {},
   "source": [
    "# Exemplo 03 - Usando Tools com LangGraph"
   ]
  },
  {
   "cell_type": "markdown",
   "id": "dc908234",
   "metadata": {},
   "source": [
    "## 1 - Carrega Bibliotecas"
   ]
  },
  {
   "cell_type": "code",
   "execution_count": 1,
   "id": "ab06f02b",
   "metadata": {},
   "outputs": [],
   "source": [
    "from langchain_groq import ChatGroq\n",
    "from langchain_core.messages import HumanMessage, SystemMessage, AIMessage\n",
    "from langgraph.prebuilt import create_react_agent\n",
    "from langchain_core.tools import tool\n",
    "from dotenv import load_dotenv"
   ]
  },
  {
   "cell_type": "markdown",
   "id": "91d2aeb4",
   "metadata": {},
   "source": [
    "## 2 - Carrega API Key"
   ]
  },
  {
   "cell_type": "code",
   "execution_count": 2,
   "id": "7d01f458",
   "metadata": {},
   "outputs": [],
   "source": [
    "from dotenv import find_dotenv, load_dotenv\n",
    "\n",
    "load_dotenv(find_dotenv())\n",
    "llm_model = ChatGroq(model_name='llama-3.3-70b-versatile',temperature=0)"
   ]
  },
  {
   "cell_type": "markdown",
   "id": "895d6592",
   "metadata": {},
   "source": [
    "## 3 - Define o prompt do sistema"
   ]
  },
  {
   "cell_type": "code",
   "execution_count": 3,
   "id": "aa8c7cfb",
   "metadata": {},
   "outputs": [],
   "source": [
    "system_message = SystemMessage(content = \"\"\"\n",
    "Você é um assistente. Se o usuário pedir contas, use\n",
    "a ferramenta 'somar'. Caso contrário, apenas responda normalmente\n",
    "\"\"\"\n",
    ")"
   ]
  },
  {
   "cell_type": "markdown",
   "id": "f85938be",
   "metadata": {},
   "source": []
  },
  {
   "cell_type": "markdown",
   "id": "baca0a17",
   "metadata": {},
   "source": [
    "## 4 - Definindo a ferramenta de soma"
   ]
  },
  {
   "cell_type": "code",
   "execution_count": 4,
   "id": "5971c37b",
   "metadata": {},
   "outputs": [],
   "source": [
    "@tool(\"somar\")\n",
    "def somar(valores: str) -> str:\n",
    "    \"\"\"Soma dois números separados por vírgula\"\"\"\n",
    "    try:\n",
    "        a, b = map(float, valores.split(\",\"))\n",
    "        return str(a + b)\n",
    "    except Exception as e:\n",
    "        return f\"Erro ao somar: {str(e)}\""
   ]
  },
  {
   "cell_type": "markdown",
   "id": "9e858d3c",
   "metadata": {},
   "source": [
    "## 5 - Criação do Agente com LangGraph"
   ]
  },
  {
   "cell_type": "code",
   "execution_count": 5,
   "id": "f6e37ae8",
   "metadata": {},
   "outputs": [],
   "source": [
    "tools = [somar]\n",
    "graph = create_react_agent(\n",
    "    model=llm_model,\n",
    "    tools=tools,\n",
    "    prompt=system_message\n",
    ")\n",
    "export_graph = graph"
   ]
  },
  {
   "cell_type": "markdown",
   "id": "50b6c12c",
   "metadata": {},
   "source": [
    "## 6 - Extrair a resposta final"
   ]
  },
  {
   "cell_type": "code",
   "execution_count": 6,
   "id": "f72ec697",
   "metadata": {},
   "outputs": [],
   "source": [
    "def extrair_resposta_final(result):\n",
    "    ai_messages = [m for m in result[\"messages\"] if isinstance(m, AIMessage) and m.content]\n",
    "    if ai_messages:\n",
    "        return ai_messages[-1].content\n",
    "    else:\n",
    "        return \"Nenhuma resposta final encontrada\""
   ]
  },
  {
   "cell_type": "markdown",
   "id": "bc1d0d72",
   "metadata": {},
   "source": [
    "## 7 - Testando o Agente"
   ]
  },
  {
   "cell_type": "code",
   "execution_count": 7,
   "id": "88311374",
   "metadata": {},
   "outputs": [
    {
     "name": "stdout",
     "output_type": "stream",
     "text": [
      "content='Quanto é 8 + 5?' additional_kwargs={} response_metadata={} id='b458ce01-5f4b-4021-adfa-92dfe934224a'\n",
      "content='' additional_kwargs={'tool_calls': [{'id': 'nd3j1dmtz', 'function': {'arguments': '{\"valores\":\"8,5\"}', 'name': 'somar'}, 'type': 'function'}]} response_metadata={'token_usage': {'completion_tokens': 17, 'prompt_tokens': 266, 'total_tokens': 283, 'completion_time': 0.033429563, 'prompt_time': 0.039816693, 'queue_time': 0.268507156, 'total_time': 0.073246256}, 'model_name': 'llama-3.3-70b-versatile', 'system_fingerprint': 'fp_2ddfbb0da0', 'service_tier': 'on_demand', 'finish_reason': 'tool_calls', 'logprobs': None} id='run--5638ff86-9495-4c09-9925-0b382fe3a2e1-0' tool_calls=[{'name': 'somar', 'args': {'valores': '8,5'}, 'id': 'nd3j1dmtz', 'type': 'tool_call'}] usage_metadata={'input_tokens': 266, 'output_tokens': 17, 'total_tokens': 283}\n",
      "content='13.0' name='somar' id='b7faf096-2e9f-46d6-94c9-830b67c09bab' tool_call_id='nd3j1dmtz'\n",
      "content='O resultado da soma de 8 e 5 é 13.' additional_kwargs={} response_metadata={'token_usage': {'completion_tokens': 15, 'prompt_tokens': 297, 'total_tokens': 312, 'completion_time': 0.032955365, 'prompt_time': 0.030895174, 'queue_time': 0.270302225, 'total_time': 0.063850539}, 'model_name': 'llama-3.3-70b-versatile', 'system_fingerprint': 'fp_2ddfbb0da0', 'service_tier': 'on_demand', 'finish_reason': 'stop', 'logprobs': None} id='run--6475d1f4-b4ee-4e5c-a9a6-307e4feb3467-0' usage_metadata={'input_tokens': 297, 'output_tokens': 15, 'total_tokens': 312}\n",
      "Resposta 1:  O resultado da soma de 8 e 5 é 13.\n",
      "\n"
     ]
    }
   ],
   "source": [
    "entrada1 = HumanMessage(content=\"Quanto é 8 + 5?\")\n",
    "result1 = export_graph.invoke({\"messages\":[entrada1]})\n",
    "for m in result1[\"messages\"]:\n",
    "    print(m)\n",
    "resposta_texto_1 = extrair_resposta_final(result1)\n",
    "print(\"Resposta 1: \", resposta_texto_1)\n",
    "print()"
   ]
  },
  {
   "cell_type": "code",
   "execution_count": 8,
   "id": "b37db49f",
   "metadata": {},
   "outputs": [
    {
     "name": "stdout",
     "output_type": "stream",
     "text": [
      "content='Quem pintou a Monalisa?' additional_kwargs={} response_metadata={} id='ae7e34c6-6e17-4a22-aaca-e2c74e0a2ead'\n",
      "content='A Monalisa foi pintada por Leonardo da Vinci, um renomado artista e polímata italiano, no início do século XVI. A pintura, criada entre 1503 e 1506, é uma das obras mais famosas do mundo e está exposta no Museu do Louvre, em Paris.' additional_kwargs={} response_metadata={'token_usage': {'completion_tokens': 71, 'prompt_tokens': 266, 'total_tokens': 337, 'completion_time': 0.214411588, 'prompt_time': 0.026435028, 'queue_time': 0.269855202, 'total_time': 0.240846616}, 'model_name': 'llama-3.3-70b-versatile', 'system_fingerprint': 'fp_2ddfbb0da0', 'service_tier': 'on_demand', 'finish_reason': 'stop', 'logprobs': None} id='run--ef43ee75-28af-400f-9fa6-2ff22421024f-0' usage_metadata={'input_tokens': 266, 'output_tokens': 71, 'total_tokens': 337}\n",
      "Resposta 2:  A Monalisa foi pintada por Leonardo da Vinci, um renomado artista e polímata italiano, no início do século XVI. A pintura, criada entre 1503 e 1506, é uma das obras mais famosas do mundo e está exposta no Museu do Louvre, em Paris.\n"
     ]
    }
   ],
   "source": [
    "entrada2 = HumanMessage(content=\"Quem pintou a Monalisa?\")\n",
    "result2 = export_graph.invoke({\"messages\":[entrada2]})\n",
    "for m in result2[\"messages\"]:\n",
    "    print(m)\n",
    "resposta_texto_2 = extrair_resposta_final(result2)\n",
    "print(\"Resposta 2: \", resposta_texto_2)"
   ]
  }
 ],
 "metadata": {
  "kernelspec": {
   "display_name": "langgraph",
   "language": "python",
   "name": "python3"
  },
  "language_info": {
   "codemirror_mode": {
    "name": "ipython",
    "version": 3
   },
   "file_extension": ".py",
   "mimetype": "text/x-python",
   "name": "python",
   "nbconvert_exporter": "python",
   "pygments_lexer": "ipython3",
   "version": "3.13.7"
  }
 },
 "nbformat": 4,
 "nbformat_minor": 5
}
