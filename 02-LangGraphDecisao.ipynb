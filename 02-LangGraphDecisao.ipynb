{
 "cells": [
  {
   "cell_type": "markdown",
   "id": "a676714b-5d25-4cb2-9270-557106cd4bd1",
   "metadata": {},
   "source": [
    "# Setup"
   ]
  },
  {
   "cell_type": "code",
   "execution_count": 9,
   "id": "1fdabae5-4778-4ce9-acc8-64a783ae4cf5",
   "metadata": {},
   "outputs": [],
   "source": [
    "from langgraph.graph import StateGraph\n",
    "from langchain_groq import ChatGroq\n",
    "\n",
    "from langchain_core.runnables import RunnableLambda\n",
    "from langchain.prompts import ChatPromptTemplate\n",
    "from duckduckgo_search import DDGS\n",
    "from langchain_core.runnables.graph import MermaidDrawMethod\n",
    "\n",
    "\n",
    "from typing import TypedDict\n",
    "import graphviz\n",
    "import os\n",
    "import yaml"
   ]
  },
  {
   "cell_type": "code",
   "execution_count": 2,
   "id": "23368379",
   "metadata": {},
   "outputs": [],
   "source": [
    "from dotenv import find_dotenv, load_dotenv\n",
    "\n",
    "load_dotenv(find_dotenv())\n",
    "llm = ChatGroq(model_name='llama-3.3-70b-versatile',temperature=0)"
   ]
  },
  {
   "cell_type": "markdown",
   "id": "24de2494-6627-4338-9f66-32bd5b927d17",
   "metadata": {},
   "source": [
    "# Estado"
   ]
  },
  {
   "cell_type": "code",
   "execution_count": 3,
   "id": "c522887c-17c0-4a90-a384-e058612f93ec",
   "metadata": {},
   "outputs": [],
   "source": [
    "class State(TypedDict):\n",
    "    pergunta: str  \n",
    "    conteudo: str \n",
    "    resposta: str "
   ]
  },
  {
   "cell_type": "markdown",
   "id": "ff0d675b-7425-4090-abc3-971b0d87697e",
   "metadata": {},
   "source": [
    "# Funções de CallBack"
   ]
  },
  {
   "cell_type": "code",
   "execution_count": 4,
   "id": "8d6254ca-aa10-4de3-a141-a9bc22cd6fdf",
   "metadata": {},
   "outputs": [],
   "source": [
    "def recebe_pergunta(state: State) -> State:\n",
    "    print(f\"Usuário perguntou: {state['pergunta']}\")\n",
    "    return {\"pergunta\": state[\"pergunta\"]}\n",
    "\n",
    "def precisa_pesquisar(state: State) -> State:\n",
    "    pergunta = state[\"pergunta\"].lower()\n",
    "    precisa = any(p in pergunta for p in [\"dados\", \"estatísticas\", \"números\", \"pesquisa\"])\n",
    "    print(\"Precisa pesquisar?\", precisa)\n",
    "    # Retorna um dicionário, com chave especial para decisão\n",
    "    return {\"next_step\": \"pesquisar\" if precisa else \"consultar_llm\"}\n",
    "\n",
    "def pesquisar(state: State) -> State:\n",
    "    pergunta = state[\"pergunta\"]\n",
    "    print(f\"Pesquisando no DuckDuckGo: {pergunta}\")\n",
    "\n",
    "    with DDGS() as ddgs:\n",
    "        resultados = ddgs.text(pergunta, max_results=1)\n",
    "\n",
    "    if resultados:\n",
    "        contexto = \"\\n\".join([r[\"body\"] for r in resultados if \"body\" in r])\n",
    "    else:\n",
    "        contexto = \"Nenhum resultado encontrado.\"\n",
    "\n",
    "    return {\"conteudo\": contexto}    \n",
    "\n",
    "def consultar_llm(state: State) -> State:\n",
    "    prompt = ChatPromptTemplate.from_template(\"Responda à seguinte pergunta: {pergunta}\")\n",
    "    chain = prompt | llm\n",
    "    resposta = chain.invoke({\"pergunta\": state[\"pergunta\"]})\n",
    "    print(\"Resposta direta do LLM.\")\n",
    "    return {\"resposta\": resposta.content}\n",
    "\n",
    "def sintetizar(state: State) -> State:\n",
    "    contexto = state.get(\"conteudo\", \"\")\n",
    "    pergunta = state[\"pergunta\"]\n",
    "    prompt = ChatPromptTemplate.from_template(\"\"\"\n",
    "    Use o seguinte contexto para responder a pergunta:\n",
    "    Contexto: {contexto}\n",
    "    Pergunta: {pergunta}\n",
    "    Resposta:\"\"\")\n",
    "    chain = prompt | llm\n",
    "    resposta = chain.invoke({\"contexto\": contexto, \"pergunta\": pergunta})\n",
    "    print(\"Resposta sintetizada com contexto.\")\n",
    "    return {\"resposta\": resposta.content}\n",
    "\n",
    "def responder(state: State) -> State:\n",
    "    print(\"\\n Resposta Final:\")\n",
    "    print(state[\"resposta\"])\n",
    "    return state"
   ]
  },
  {
   "cell_type": "markdown",
   "id": "83acffa2-82bd-4ee8-a611-f41b7e396b3b",
   "metadata": {},
   "source": [
    "# Cria Grafo"
   ]
  },
  {
   "cell_type": "code",
   "execution_count": 5,
   "id": "953fd2c6-f021-43d3-a9ad-478d1459e7b0",
   "metadata": {},
   "outputs": [
    {
     "data": {
      "text/plain": [
       "<langgraph.graph.state.StateGraph at 0x172843380>"
      ]
     },
     "execution_count": 5,
     "metadata": {},
     "output_type": "execute_result"
    }
   ],
   "source": [
    "graph = StateGraph(State)\n",
    "\n",
    "graph.add_node(\"recebe_pergunta\", RunnableLambda(recebe_pergunta))\n",
    "graph.add_node(\"decisao\", RunnableLambda(precisa_pesquisar))\n",
    "graph.add_node(\"pesquisar\", RunnableLambda(pesquisar))\n",
    "graph.add_node(\"consultar_llm\", RunnableLambda(consultar_llm))\n",
    "graph.add_node(\"sintetizar\", RunnableLambda(sintetizar))\n",
    "graph.add_node(\"responder\", RunnableLambda(responder))"
   ]
  },
  {
   "cell_type": "markdown",
   "id": "27d04aa3-1382-49d4-b934-e6a6b5702bd0",
   "metadata": {},
   "source": [
    "# Transições de Estado e Condições"
   ]
  },
  {
   "cell_type": "code",
   "execution_count": 6,
   "id": "1ae3be22-7b5a-4c10-be7d-82c4196f8e73",
   "metadata": {},
   "outputs": [
    {
     "data": {
      "text/plain": [
       "<langgraph.graph.state.StateGraph at 0x172843380>"
      ]
     },
     "execution_count": 6,
     "metadata": {},
     "output_type": "execute_result"
    }
   ],
   "source": [
    "graph.set_entry_point(\"recebe_pergunta\")\n",
    "\n",
    "graph.add_edge(\"recebe_pergunta\", \"decisao\")\n",
    "graph.add_conditional_edges(\n",
    "    \"decisao\",\n",
    "    lambda state: state[\"next_step\"],  \n",
    "    {\n",
    "        \"pesquisar\": \"pesquisar\",\n",
    "        \"consultar_llm\": \"consultar_llm\"\n",
    "    }\n",
    ")\n",
    "graph.add_edge(\"pesquisar\", \"sintetizar\")\n",
    "graph.add_edge(\"consultar_llm\", \"responder\")\n",
    "graph.add_edge(\"sintetizar\", \"responder\")\n",
    "graph.set_finish_point(\"responder\")"
   ]
  },
  {
   "cell_type": "markdown",
   "id": "e97f0a7b-a648-4805-a1b4-4098e288df93",
   "metadata": {},
   "source": [
    "# Execução"
   ]
  },
  {
   "cell_type": "code",
   "execution_count": 7,
   "id": "7f287c51-0d2a-47a8-8d69-1d7622aad238",
   "metadata": {},
   "outputs": [
    {
     "name": "stdout",
     "output_type": "stream",
     "text": [
      "\n",
      " TESTE 1:\n",
      "Usuário perguntou: Qual é a capital da Alemanha?\n",
      "Precisa pesquisar? False\n",
      "Resposta direta do LLM.\n",
      "\n",
      " Resposta Final:\n",
      "Berlim.\n",
      "\n",
      "  TESTE 2:\n",
      "Usuário perguntou: Me mostre dados sobre economia brasileira em 2025.\n",
      "Precisa pesquisar? True\n",
      "Pesquisando no DuckDuckGo: Me mostre dados sobre economia brasileira em 2025.\n"
     ]
    },
    {
     "name": "stderr",
     "output_type": "stream",
     "text": [
      "/var/folders/gw/ttswwznn6hd6fpmml52b4sh40000gn/T/ipykernel_51764/1028576957.py:16: RuntimeWarning: This package (`duckduckgo_search`) has been renamed to `ddgs`! Use `pip install ddgs` instead.\n",
      "  with DDGS() as ddgs:\n"
     ]
    },
    {
     "name": "stdout",
     "output_type": "stream",
     "text": [
      "Resposta sintetizada com contexto.\n",
      "\n",
      " Resposta Final:\n",
      "Até a data do meu último conhecimento em abril de 2023, não tenho informações específicas sobre a economia brasileira em 2025, pois meus dados são limitados a até 2023. No entanto, posso oferecer uma visão geral de como a economia brasileira tem se comportado nos anos anteriores e quais são os principais desafios e tendências que podem influenciar seu desempenho futuro.\n",
      "\n",
      "A economia brasileira é uma das maiores da América Latina e do mundo, com um Produto Interno Bruto (PIB) significativo. Nos anos recentes, o Brasil enfrentou desafios econômicos, incluindo recessão, inflação, desemprego e uma grande dependência das exportações de commodities. O país também tem enfrentado questões estruturais, como uma burocracia complexa, altos impostos e uma infraestrutura que precisa de melhorias.\n",
      "\n",
      "Para 2025, é provável que a economia brasileira continue a ser influenciada por fatores globais, como as tendências econômicas mundiais, os preços das commodities, e as políticas econômicas internas. A implementação de reformas estruturais, como a reforma tributária, a reforma da previdência e investimentos em infraestrutura, pode ser crucial para o crescimento sustentável da economia.\n",
      "\n",
      "Além disso, a digitalização e a inovação podem desempenhar um papel importante no desenvolvimento econômico do Brasil, com setores como o de tecnologia da informação, biotecnologia e energia renovável tendo potencial para impulsionar o crescimento.\n",
      "\n",
      "Para obter informações atualizadas e específicas sobre a economia brasileira em 2025, recomendo consultar fontes econômicas atualizadas, como o Banco Central do Brasil, o Instituto Brasileiro de Geografia e Estatística (IBGE), ou relatórios de instituições financeiras e de pesquisa econômica.\n"
     ]
    },
    {
     "data": {
      "text/plain": [
       "{'pergunta': 'Me mostre dados sobre economia brasileira em 2025.',\n",
       " 'conteudo': 'Apr 18, 2025 · google chrome官网入口Google Chrome官网的入口是：https://www.google.cn/chrome/以下是关于Google Chrome官网入口的一些重要信息和建议 ...',\n",
       " 'resposta': 'Até a data do meu último conhecimento em abril de 2023, não tenho informações específicas sobre a economia brasileira em 2025, pois meus dados são limitados a até 2023. No entanto, posso oferecer uma visão geral de como a economia brasileira tem se comportado nos anos anteriores e quais são os principais desafios e tendências que podem influenciar seu desempenho futuro.\\n\\nA economia brasileira é uma das maiores da América Latina e do mundo, com um Produto Interno Bruto (PIB) significativo. Nos anos recentes, o Brasil enfrentou desafios econômicos, incluindo recessão, inflação, desemprego e uma grande dependência das exportações de commodities. O país também tem enfrentado questões estruturais, como uma burocracia complexa, altos impostos e uma infraestrutura que precisa de melhorias.\\n\\nPara 2025, é provável que a economia brasileira continue a ser influenciada por fatores globais, como as tendências econômicas mundiais, os preços das commodities, e as políticas econômicas internas. A implementação de reformas estruturais, como a reforma tributária, a reforma da previdência e investimentos em infraestrutura, pode ser crucial para o crescimento sustentável da economia.\\n\\nAlém disso, a digitalização e a inovação podem desempenhar um papel importante no desenvolvimento econômico do Brasil, com setores como o de tecnologia da informação, biotecnologia e energia renovável tendo potencial para impulsionar o crescimento.\\n\\nPara obter informações atualizadas e específicas sobre a economia brasileira em 2025, recomendo consultar fontes econômicas atualizadas, como o Banco Central do Brasil, o Instituto Brasileiro de Geografia e Estatística (IBGE), ou relatórios de instituições financeiras e de pesquisa econômica.'}"
      ]
     },
     "execution_count": 7,
     "metadata": {},
     "output_type": "execute_result"
    }
   ],
   "source": [
    "executable = graph.compile()\n",
    "\n",
    "print(\"\\n TESTE 1:\")\n",
    "executable.invoke({\"pergunta\": \"Qual é a capital da Alemanha?\"})\n",
    "\n",
    "print(\"\\n  TESTE 2:\")\n",
    "executable.invoke({\"pergunta\": \"Me mostre dados sobre economia brasileira em 2025.\"})"
   ]
  },
  {
   "cell_type": "markdown",
   "id": "7618ebf2-ec45-4ade-8752-a2a38012e567",
   "metadata": {},
   "source": [
    "# Gráfico"
   ]
  },
  {
   "cell_type": "code",
   "execution_count": 8,
   "id": "b52a0995-5953-41f6-80b4-08ddc10edd68",
   "metadata": {},
   "outputs": [
    {
     "name": "stdout",
     "output_type": "stream",
     "text": [
      "---\n",
      "config:\n",
      "  flowchart:\n",
      "    curve: linear\n",
      "---\n",
      "graph TD;\n",
      "\t__start__([<p>__start__</p>]):::first\n",
      "\trecebe_pergunta(recebe_pergunta)\n",
      "\tdecisao(decisao)\n",
      "\tpesquisar(pesquisar)\n",
      "\tconsultar_llm(consultar_llm)\n",
      "\tsintetizar(sintetizar)\n",
      "\tresponder(responder)\n",
      "\t__end__([<p>__end__</p>]):::last\n",
      "\t__start__ --> recebe_pergunta;\n",
      "\tconsultar_llm --> responder;\n",
      "\tdecisao -.-> consultar_llm;\n",
      "\tdecisao -.-> pesquisar;\n",
      "\tpesquisar --> sintetizar;\n",
      "\trecebe_pergunta --> decisao;\n",
      "\tsintetizar --> responder;\n",
      "\tresponder --> __end__;\n",
      "\tclassDef default fill:#f2f0ff,line-height:1.2\n",
      "\tclassDef first fill-opacity:0\n",
      "\tclassDef last fill:#bfb6fc\n",
      "\n"
     ]
    }
   ],
   "source": [
    "dot = executable.get_graph().draw_mermaid()\n",
    "\n",
    "print(dot)"
   ]
  },
  {
   "cell_type": "code",
   "execution_count": 11,
   "id": "16b0a570-395d-4b68-87b7-cdd69c142009",
   "metadata": {},
   "outputs": [],
   "source": [
    "png_bytes = executable.get_graph().draw_mermaid_png(\n",
    "    draw_method=MermaidDrawMethod.API\n",
    ")"
   ]
  },
  {
   "cell_type": "code",
   "execution_count": 13,
   "id": "090db816",
   "metadata": {},
   "outputs": [
    {
     "data": {
      "image/png": "[encoded data removed]",
      "text/plain": [
       "<IPython.core.display.Image object>"
      ]
     },
     "execution_count": 13,
     "metadata": {},
     "output_type": "execute_result"
    }
   ],
   "source": [
    "from IPython.display import Image  \n",
    "Image(png_bytes)"
   ]
  }
 ],
 "metadata": {
  "kernelspec": {
   "display_name": "langgraph",
   "language": "python",
   "name": "python3"
  },
  "language_info": {
   "codemirror_mode": {
    "name": "ipython",
    "version": 3
   },
   "file_extension": ".py",
   "mimetype": "text/x-python",
   "name": "python",
   "nbconvert_exporter": "python",
   "pygments_lexer": "ipython3",
   "version": "3.13.7"
  }
 },
 "nbformat": 4,
 "nbformat_minor": 5
}
